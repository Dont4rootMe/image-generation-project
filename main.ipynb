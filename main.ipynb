{
 "cells": [
  {
   "cell_type": "code",
   "execution_count": 1,
   "metadata": {},
   "outputs": [],
   "source": [
    "from datasets.datasets import BaseDataset\n",
    "from torchvision import transforms\n",
    "\n",
    "transformers = transforms.Compose([\n",
    "    transforms.ToTensor(),\n",
    "    transforms.Resize((64, 64))\n",
    "])"
   ]
  },
  {
   "cell_type": "code",
   "execution_count": 2,
   "metadata": {},
   "outputs": [],
   "source": [
    "import numpy as np\n",
    "\n",
    "bds = BaseDataset(\n",
    "    root='data/food_data/train',\n",
    "    transforms=transformers,\n",
    "    samples_to_normalize=None,\n",
    "    mean=[0.5, 0.5, 0.5], std=[0.5, 0.5, 0.5],\n",
    "    normalize_data=True\n",
    ")"
   ]
  },
  {
   "cell_type": "code",
   "execution_count": 7,
   "metadata": {},
   "outputs": [],
   "source": [
    "bds_modified = BaseDataset(\n",
    "    root='data/food_data/train',\n",
    "    transforms=transformers,\n",
    "    samples_to_normalize=None,\n",
    "    mean=np.array([0.5, 0.5, 0.5]), std=np.array([0.5, 0.5, 0.5]),\n",
    "    normalize_data=True\n",
    ")"
   ]
  },
  {
   "cell_type": "code",
   "execution_count": 9,
   "metadata": {},
   "outputs": [
    {
     "data": {
      "text/plain": [
       "tensor([[[ 1.4451,  1.3743,  1.2681,  ..., -1.4570, -1.4393, -1.3862],\n",
       "         [ 1.2328,  1.1974,  1.1266,  ..., -0.5191, -0.8199, -1.0500],\n",
       "         [ 1.0204,  1.0204,  0.9850,  ..., -0.2537, -0.1829, -0.1652],\n",
       "         ...,\n",
       "         [ 1.1443,  1.2151,  1.2858,  ...,  1.4982,  1.4982,  1.4982],\n",
       "         [ 1.1974,  1.2328,  1.2681,  ...,  1.5159,  1.5159,  1.5159],\n",
       "         [ 1.1974,  1.1974,  1.1974,  ...,  1.5159,  1.5159,  1.5159]],\n",
       "\n",
       "        [[ 1.6361,  1.5683,  1.4665,  ..., -1.7906, -1.8245, -1.7736],\n",
       "         [ 1.4326,  1.3986,  1.3308,  ..., -0.8745, -1.1629, -1.4004],\n",
       "         [ 1.2290,  1.2290,  1.1951,  ..., -0.5352, -0.4844, -0.4674],\n",
       "         ...,\n",
       "         [ 1.2629,  1.3308,  1.3986,  ...,  1.7379,  1.7379,  1.7379],\n",
       "         [ 1.2969,  1.3308,  1.3647,  ...,  1.7549,  1.7549,  1.7549],\n",
       "         [ 1.2969,  1.2969,  1.2969,  ...,  1.7549,  1.7549,  1.7549]],\n",
       "\n",
       "        [[ 1.9023,  1.8335,  1.7304,  ..., -1.5019, -1.5019, -1.5019],\n",
       "         [ 1.6960,  1.6616,  1.5928,  ..., -0.9517, -1.2784, -1.5019],\n",
       "         [ 1.4553,  1.4553,  1.4209,  ..., -0.5563, -0.5391, -0.5219],\n",
       "         ...,\n",
       "         [ 1.3865,  1.4553,  1.5240,  ...,  1.9539,  1.9539,  1.9539],\n",
       "         [ 1.3865,  1.4209,  1.4553,  ...,  1.9367,  1.9367,  1.9367],\n",
       "         [ 1.3865,  1.3865,  1.3865,  ...,  1.9367,  1.9367,  1.9367]]])"
      ]
     },
     "execution_count": 9,
     "metadata": {},
     "output_type": "execute_result"
    }
   ],
   "source": [
    "bds[0]['images']"
   ]
  },
  {
   "cell_type": "code",
   "execution_count": 3,
   "metadata": {},
   "outputs": [
    {
     "data": {
      "text/plain": [
       "(array([ 1.,  1.,  0.,  0.,  1.,  2.,  1.,  0.,  2.,  0.,  1.,  2.,  3.,\n",
       "         2.,  1.,  2.,  3.,  2.,  0.,  3.,  3.,  5.,  4.,  4., 10.,  8.,\n",
       "         5.,  6.,  0.,  7.,  3.,  7.,  9.,  8., 10.,  6.,  6.,  0.,  6.,\n",
       "         3.,  5.,  4.,  3.,  4.,  9.,  3.,  3.,  0.,  4.,  8., 10.,  3.,\n",
       "         7.,  1., 11.,  7.,  0.,  5.,  5.,  7.,  6.,  8.,  5.,  8.,  6.,\n",
       "         6.,  0.,  6.,  6.,  7.,  5.,  9., 10.,  3.,  9.,  0.,  9.,  9.,\n",
       "         2., 12.,  4., 12., 10.,  7., 11.,  0.,  9., 14., 11., 10., 15.,\n",
       "         8.,  7., 14.,  0., 12.,  9., 15., 11., 11.,  5., 19., 15., 16.,\n",
       "         0., 15., 15., 17., 12., 12., 16., 10., 16.,  0., 18., 16., 17.,\n",
       "        13., 12., 15., 16., 10., 11.,  0., 12., 12., 15., 19., 15., 13.,\n",
       "        11., 11.,  0., 14., 10., 16., 14., 23., 19., 17., 15., 14.,  0.,\n",
       "        11., 20., 12., 17., 25., 16., 22., 22.,  0., 27., 31., 28., 33.,\n",
       "        27., 23., 23., 31., 27.,  0., 27., 22., 32., 32., 32., 26., 18.,\n",
       "        38.,  0., 36., 30., 25., 20., 26., 31., 29., 29., 33.,  0., 26.,\n",
       "        29., 27., 32., 32., 22., 40., 61.,  0., 50., 56., 57., 46., 41.,\n",
       "        48., 38., 40., 46.,  0., 64., 45., 36., 49., 43., 49., 42., 34.,\n",
       "         0., 33., 30., 40., 27., 34., 28., 35., 27., 40.,  0., 52., 38.,\n",
       "        51., 48., 40., 41., 22., 30.,  0., 21., 28., 18., 22., 21., 23.,\n",
       "        37., 27., 25.,  0., 24., 14., 36., 16., 19., 15., 12., 10.,  0.,\n",
       "         9., 11.,  8.,  4.,  9.,  6.,  2.,  5., 26.]),\n",
       " array([-0.79607844, -0.7890625 , -0.78204656, -0.77503067, -0.76801473,\n",
       "        -0.76099879, -0.75398284, -0.7469669 , -0.73995101, -0.73293507,\n",
       "        -0.72591913, -0.71890318, -0.71188724, -0.70487136, -0.69785541,\n",
       "        -0.69083947, -0.68382353, -0.67680764, -0.6697917 , -0.66277575,\n",
       "        -0.65575981, -0.64874387, -0.64172792, -0.63471204, -0.6276961 ,\n",
       "        -0.62068015, -0.61366421, -0.60664833, -0.59963238, -0.59261644,\n",
       "        -0.5856005 , -0.57858455, -0.57156861, -0.56455272, -0.55753678,\n",
       "        -0.55052084, -0.54350495, -0.53648901, -0.52947307, -0.52245712,\n",
       "        -0.51544118, -0.50842524, -0.50140929, -0.49439338, -0.48737746,\n",
       "        -0.48036152, -0.47334561, -0.46632966, -0.45931375, -0.45229781,\n",
       "        -0.44528186, -0.43826595, -0.43125001, -0.42423409, -0.41721815,\n",
       "        -0.41020221, -0.40318629, -0.39617035, -0.38915443, -0.38213849,\n",
       "        -0.37512255, -0.36810663, -0.36109069, -0.35407478, -0.34705883,\n",
       "        -0.34004289, -0.33302698, -0.32601103, -0.31899512, -0.31197917,\n",
       "        -0.30496323, -0.29794732, -0.2909314 , -0.28391546, -0.27689952,\n",
       "        -0.26988357, -0.26286763, -0.25585175, -0.2488358 , -0.24181986,\n",
       "        -0.23480392, -0.22778797, -0.22077209, -0.21375614, -0.2067402 ,\n",
       "        -0.19972426, -0.19270831, -0.18569243, -0.17867649, -0.17166054,\n",
       "        -0.1646446 , -0.15762866, -0.15061277, -0.14359683, -0.13658088,\n",
       "        -0.12956494, -0.12254906, -0.11553311, -0.10851717, -0.10150123,\n",
       "        -0.09448528, -0.0874694 , -0.08045346, -0.07343751, -0.06642157,\n",
       "        -0.05940562, -0.05238974, -0.0453738 , -0.03835785, -0.03134191,\n",
       "        -0.02432597, -0.01731008, -0.01029414, -0.0032782 ,  0.00373775,\n",
       "         0.01075369,  0.01776958,  0.02478552,  0.03180146,  0.03881741,\n",
       "         0.04583335,  0.05284923,  0.05986518,  0.06688112,  0.07389706,\n",
       "         0.08091301,  0.08792889,  0.09494483,  0.10196078,  0.10897672,\n",
       "         0.11599267,  0.12300855,  0.13002449,  0.13704044,  0.14405638,\n",
       "         0.15107232,  0.15808821,  0.16510415,  0.17212009,  0.17913604,\n",
       "         0.18615198,  0.19316787,  0.20018381,  0.20719969,  0.21421564,\n",
       "         0.22123158,  0.22824752,  0.23526347,  0.24227941,  0.24929535,\n",
       "         0.2563113 ,  0.26332724,  0.27034318,  0.27735901,  0.28437495,\n",
       "         0.2913909 ,  0.29840684,  0.30542278,  0.31243873,  0.31945467,\n",
       "         0.32647061,  0.33348656,  0.3405025 ,  0.34751832,  0.35453427,\n",
       "         0.36155021,  0.36856616,  0.3755821 ,  0.38259804,  0.38961399,\n",
       "         0.39662993,  0.40364587,  0.41066182,  0.41767764,  0.42469358,\n",
       "         0.43170953,  0.43872547,  0.44574142,  0.45275736,  0.4597733 ,\n",
       "         0.46678925,  0.47380519,  0.48082113,  0.48783696,  0.4948529 ,\n",
       "         0.50186884,  0.50888479,  0.51590073,  0.52291667,  0.52993262,\n",
       "         0.53694856,  0.54396451,  0.55098033,  0.55799627,  0.56501222,\n",
       "         0.57202816,  0.5790441 ,  0.58606005,  0.59307599,  0.60009193,\n",
       "         0.60710788,  0.61412382,  0.62113965,  0.62815559,  0.63517153,\n",
       "         0.64218748,  0.64920342,  0.65621936,  0.66323531,  0.67025125,\n",
       "         0.67726719,  0.68428314,  0.69129896,  0.69831491,  0.70533085,\n",
       "         0.71234679,  0.71936274,  0.72637868,  0.73339462,  0.74041057,\n",
       "         0.74742651,  0.75444245,  0.76145828,  0.76847422,  0.77549016,\n",
       "         0.78250611,  0.78952205,  0.796538  ,  0.80355394,  0.81056988,\n",
       "         0.81758583,  0.82460177,  0.83161759,  0.83863354,  0.84564948,\n",
       "         0.85266542,  0.85968137,  0.86669731,  0.87371325,  0.8807292 ,\n",
       "         0.88774514,  0.89476109,  0.90177691,  0.90879285,  0.9158088 ,\n",
       "         0.92282474,  0.92984068,  0.93685663,  0.94387257,  0.95088851,\n",
       "         0.95790446,  0.9649204 ,  0.97193623,  0.97895217,  0.98596811,\n",
       "         0.99298406,  1.        ]),\n",
       " [<matplotlib.patches.Polygon at 0x127d331d0>])"
      ]
     },
     "execution_count": 3,
     "metadata": {},
     "output_type": "execute_result"
    },
    {
     "data": {
      "image/png": "[encoded data removed]",
      "text/plain": [
       "<Figure size 640x480 with 1 Axes>"
      ]
     },
     "metadata": {},
     "output_type": "display_data"
    }
   ],
   "source": [
    "from matplotlib import pyplot as plt\n",
    "plt.hist(bds[0]['images'][0].ravel(), bins=256, histtype='step')"
   ]
  },
  {
   "cell_type": "code",
   "execution_count": 278,
   "metadata": {},
   "outputs": [],
   "source": [
    "from matplotlib import pyplot as plt\n",
    "from training import noise\n",
    "\n",
    "ns = noise.NoiseScheduler(0.1, 1000)"
   ]
  },
  {
   "cell_type": "code",
   "execution_count": 107,
   "metadata": {},
   "outputs": [
    {
     "name": "stderr",
     "output_type": "stream",
     "text": [
      "/var/folders/hk/5434dpv95nl2rxl497d7c0lm0000gn/T/ipykernel_19630/769216580.py:1: DeprecationWarning: __array_wrap__ must accept context and return_scalar arguments (positionally) in the future. (Deprecated NumPy 2.0)\n",
      "  plt.imshow(ns(bds[0]['images'].permute(1, 2, 0), 900) * bds.std + bds.mean)\n",
      "Clipping input data to the valid range for imshow with RGB data ([0..1] for floats or [0..255] for integers). Got range [-3.7908554e-05..1.0000212].\n"
     ]
    },
    {
     "data": {
      "text/plain": [
       "<matplotlib.image.AxesImage at 0x1682b1050>"
      ]
     },
     "execution_count": 107,
     "metadata": {},
     "output_type": "execute_result"
    },
    {
     "data": {
      "image/png": "[encoded data removed]",
      "text/plain": [
       "<Figure size 640x480 with 1 Axes>"
      ]
     },
     "metadata": {},
     "output_type": "display_data"
    }
   ],
   "source": [
    "plt.imshow(ns(bds[0]['images'].permute(1, 2, 0), 900) * bds.std + bds.mean)"
   ]
  },
  {
   "cell_type": "code",
   "execution_count": 281,
   "metadata": {},
   "outputs": [
    {
     "data": {
      "text/plain": [
       "<matplotlib.image.AxesImage at 0x176d3c8d0>"
      ]
     },
     "execution_count": 281,
     "metadata": {},
     "output_type": "execute_result"
    },
    {
     "data": {
      "image/png": "[encoded data removed]",
      "text/plain": [
       "<Figure size 640x480 with 1 Axes>"
      ]
     },
     "metadata": {},
     "output_type": "display_data"
    }
   ],
   "source": [
    "from torch.nn import functional as F\n",
    "import torch\n",
    "from math import log\n",
    "\n",
    "input = bds[0]['images'].unsqueeze(0)\n",
    "# input = ns(bds[0]['images'], 10).unsqueeze(0)\n",
    "size = int(input.size(2) / (2 ** 3))\n",
    "size = (size, size)\n",
    "\n",
    "plt.imshow(ns(F.interpolate(input, size, mode='bilinear', align_corners=True), 1000).squeeze(0).permute(1, 2, 0).detach().numpy() * bds.std + bds.mean)"
   ]
  },
  {
   "cell_type": "code",
   "execution_count": 290,
   "metadata": {},
   "outputs": [
    {
     "name": "stderr",
     "output_type": "stream",
     "text": [
      "Clipping input data to the valid range for imshow with RGB data ([0..1] for floats or [0..255] for integers). Got range [-0.0074172914..1.0109874].\n"
     ]
    },
    {
     "data": {
      "text/plain": [
       "<matplotlib.image.AxesImage at 0x1779721d0>"
      ]
     },
     "execution_count": 290,
     "metadata": {},
     "output_type": "execute_result"
    },
    {
     "data": {
      "image/png": "[encoded data removed]",
      "text/plain": [
       "<Figure size 640x480 with 1 Axes>"
      ]
     },
     "metadata": {},
     "output_type": "display_data"
    }
   ],
   "source": [
    "plt.imshow(ns(F.interpolate(input, size, mode='bilinear', align_corners=True), 1).squeeze(0).permute(1, 2, 0).detach().numpy() * bds.std + bds.mean)"
   ]
  },
  {
   "cell_type": "code",
   "execution_count": 1,
   "metadata": {},
   "outputs": [],
   "source": [
    "from models.gan_models import WasserstainGenerator, WasserstainCritic\n",
    "from omegaconf import OmegaConf\n",
    "import torch\n",
    "\n",
    "config = OmegaConf.create({\n",
    "    'z_dim': 128,\n",
    "    'hidden_dim': 512\n",
    "})\n",
    "\n",
    "wg = WasserstainGenerator(config)\n",
    "wc = WasserstainCritic(config)"
   ]
  },
  {
   "cell_type": "code",
   "execution_count": 24,
   "metadata": {},
   "outputs": [
    {
     "data": {
      "text/plain": [
       "tensor(0.0339, grad_fn=<SqueezeBackward0>)"
      ]
     },
     "execution_count": 24,
     "metadata": {},
     "output_type": "execute_result"
    }
   ],
   "source": [
    "num_blocks=5\n",
    "wg.set_num_blocks(num_blocks)\n",
    "wc.set_num_blocks(num_blocks)\n",
    "wc(wg(torch.normal(0, 1, (1, 128), device='cpu')))"
   ]
  },
  {
   "cell_type": "code",
   "execution_count": 7,
   "metadata": {},
   "outputs": [
    {
     "data": {
      "text/plain": [
       "tensor(1)"
      ]
     },
     "execution_count": 7,
     "metadata": {},
     "output_type": "execute_result"
    }
   ],
   "source": [
    "wg.block_number"
   ]
  },
  {
   "cell_type": "code",
   "execution_count": 4,
   "metadata": {},
   "outputs": [],
   "source": [
    "from training.fade_in import FadeInScheduler\n",
    "from omegaconf import OmegaConf\n",
    "import torch\n",
    "\n",
    "config = OmegaConf.create({\n",
    "    'lvl_fraction': [0.5, 0.1, 0.1, 0.2, 0.1],\n",
    "    'start_from': 1\n",
    "})\n",
    "\n",
    "fis = FadeInScheduler(300000, config)"
   ]
  },
  {
   "cell_type": "code",
   "execution_count": 6,
   "metadata": {},
   "outputs": [
    {
     "name": "stderr",
     "output_type": "stream",
     "text": [
      "  0%|          | 0/300000 [00:00<?, ?it/s]"
     ]
    },
    {
     "name": "stderr",
     "output_type": "stream",
     "text": [
      "100%|██████████| 300000/300000 [02:24<00:00, 2079.84it/s]\n"
     ]
    }
   ],
   "source": [
    "from tqdm import tqdm\n",
    "ks = []\n",
    "for i in tqdm(range(300000)):\n",
    "    _, k = fis(torch.normal(0, 1, (3, 3, 64, 64), device='cpu'), i)\n",
    "    ks.append(k)"
   ]
  },
  {
   "cell_type": "code",
   "execution_count": 7,
   "metadata": {},
   "outputs": [
    {
     "data": {
      "text/plain": [
       "(array([150000.,      0.,  30000.,      0.,      0.,  30000.,      0.,\n",
       "         60000.,      0.,  30000.]),\n",
       " array([1. , 1.4, 1.8, 2.2, 2.6, 3. , 3.4, 3.8, 4.2, 4.6, 5. ]),\n",
       " <BarContainer object of 10 artists>)"
      ]
     },
     "execution_count": 7,
     "metadata": {},
     "output_type": "execute_result"
    },
    {
     "data": {
      "image/png": "[encoded data removed]",
      "text/plain": [
       "<Figure size 640x480 with 1 Axes>"
      ]
     },
     "metadata": {},
     "output_type": "display_data"
    }
   ],
   "source": [
    "from matplotlib import pyplot as plt\n",
    "plt.hist(ks)"
   ]
  },
  {
   "cell_type": "code",
   "execution_count": 2,
   "metadata": {},
   "outputs": [
    {
     "data": {
      "text/plain": [
       "(tensor([[[[-1.0906,  0.4119, -0.7750,  0.4693],\n",
       "           [-0.3465,  0.2120,  1.0050, -0.9589],\n",
       "           [ 0.0548, -0.6221,  1.3432, -1.0137],\n",
       "           [-0.5251,  0.1708, -1.0779,  0.8347]],\n",
       " \n",
       "          [[ 2.0891, -0.5095,  0.2201,  0.8418],\n",
       "           [-1.1826,  1.5177, -0.2353, -0.0411],\n",
       "           [-0.3922,  1.2493,  1.0612, -1.1562],\n",
       "           [ 0.3163, -0.3204, -1.1379, -1.0743]],\n",
       " \n",
       "          [[ 0.8276,  0.6131, -0.8035,  1.0268],\n",
       "           [-2.2075, -0.0541, -1.5817, -2.1291],\n",
       "           [-0.6421,  2.1659,  1.1974, -0.6697],\n",
       "           [ 0.5226, -0.1340, -0.2136,  0.5278]]],\n",
       " \n",
       " \n",
       "         [[[ 0.1328, -1.9444,  0.7725,  1.6371],\n",
       "           [ 1.8997,  2.0917, -0.5498, -0.5602],\n",
       "           [-0.4596,  0.6740,  0.2972, -0.4629],\n",
       "           [ 1.7110, -0.5254, -1.5955, -0.4160]],\n",
       " \n",
       "          [[ 1.5743, -0.8722, -1.2473, -1.6467],\n",
       "           [-1.3646, -0.0185, -0.8471,  0.2479],\n",
       "           [ 0.2702,  1.2933, -0.5234, -0.5178],\n",
       "           [-1.5107, -1.2274,  0.4502,  0.3784]],\n",
       " \n",
       "          [[-0.4942,  0.6440, -0.2398,  2.1366],\n",
       "           [ 0.1224,  0.2282, -0.6797, -0.2533],\n",
       "           [ 2.2703, -0.4765,  1.2340, -0.1591],\n",
       "           [-0.9873, -0.9608, -0.8874, -0.5702]]],\n",
       " \n",
       " \n",
       "         [[[-1.6783, -0.6842,  0.1277, -1.5225],\n",
       "           [-0.4527,  0.9262,  0.3565, -2.3085],\n",
       "           [ 0.8160, -1.0270,  0.0414,  0.6332],\n",
       "           [ 0.0788,  0.3802, -0.2800, -1.2035]],\n",
       " \n",
       "          [[ 0.0611, -0.1216,  0.3540,  0.7332],\n",
       "           [-0.5127, -0.6350,  0.4837, -0.9044],\n",
       "           [ 2.0132,  0.4437, -0.9452,  0.9914],\n",
       "           [ 0.1221,  2.1879,  0.2315,  0.1392]],\n",
       " \n",
       "          [[-0.5198,  1.3093,  0.6492, -0.9552],\n",
       "           [-0.4547,  1.0614,  0.2291,  0.4981],\n",
       "           [ 0.6267, -0.5843,  1.2836,  1.6312],\n",
       "           [-0.3545, -0.6131,  1.1685, -0.6636]]]]),\n",
       " tensor(1))"
      ]
     },
     "execution_count": 2,
     "metadata": {},
     "output_type": "execute_result"
    }
   ],
   "source": [
    "fis(torch.normal(0, 1, (3, 3, 64, 64), device='cpu'), 0)"
   ]
  },
  {
   "cell_type": "code",
   "execution_count": 1,
   "metadata": {},
   "outputs": [],
   "source": [
    "from training.diffusion_scheduler import DiffusionNoiseScheduler\n",
    "import numpy as np\n",
    "from datasets.datasets import BaseDataset\n",
    "from torch.utils.data.dataloader import DataLoader\n",
    "from matplotlib import pyplot as plt\n",
    "from torchvision import transforms\n",
    "import torch\n",
    "\n",
    "transformers = transforms.Compose([\n",
    "    transforms.ToTensor(),\n",
    "    transforms.Resize((64, 64))\n",
    "])\n",
    "\n",
    "bds = BaseDataset(\n",
    "    root='data/food_data/train',\n",
    "    transforms=transformers,\n",
    "    samples_to_normalize=None,\n",
    "    mean=[0.5, 0.5, 0.5], std=[0.5, 0.5, 0.5],\n",
    "    normalize_data=True\n",
    ")\n",
    "\n",
    "dtl = iter(DataLoader(bds, 5))\n",
    "N = 300\n",
    "scheduler = DiffusionNoiseScheduler('linear', 1e-5, 2e-2, N)\n",
    "\n",
    "\n",
    "data = next(dtl)['images']\n",
    "# scheduler(data, torch.randint(0, 300, (len(data), )))"
   ]
  },
  {
   "cell_type": "code",
   "execution_count": 1,
   "metadata": {},
   "outputs": [
    {
     "data": {
      "text/plain": [
       "torch.Size([3, 3, 64, 64])"
      ]
     },
     "execution_count": 1,
     "metadata": {},
     "output_type": "execute_result"
    }
   ],
   "source": [
    "from models.diffusion_models import BlendingUnet\n",
    "from omegaconf import OmegaConf\n",
    "import torch\n",
    "\n",
    "config = OmegaConf.create({\n",
    "    'max_steps': 300,\n",
    "    'feature_map_size': 64,\n",
    "    'time_embedding_dim': 100\n",
    "})\n",
    "\n",
    "unet = BlendingUnet(config)\n",
    "unet(torch.rand(3, 3, 64, 64), torch.tensor([3, 205, 268])).shape"
   ]
  },
  {
   "cell_type": "code",
   "execution_count": 4,
   "metadata": {},
   "outputs": [
    {
     "data": {
      "text/plain": [
       "torch.Size([3, 3, 64, 64])"
      ]
     },
     "execution_count": 4,
     "metadata": {},
     "output_type": "execute_result"
    }
   ],
   "source": [
    "unet(torch.rand(3, 3, 64, 64), torch.tensor([3, 205, 299])).shape"
   ]
  },
  {
   "cell_type": "code",
   "execution_count": 99,
   "metadata": {},
   "outputs": [],
   "source": [
    "noise_schedule = scheduler(torch.tile(data[0][None, ...], [N, 1, 1, 1]), torch.arange(N))"
   ]
  },
  {
   "cell_type": "code",
   "execution_count": 100,
   "metadata": {},
   "outputs": [],
   "source": [
    "from torchvision.utils import save_image\n",
    "\n",
    "for i in range(N):\n",
    "    save_image(torch.clamp(noise_schedule[i] * 0.5 + 0.5, min=0, max=1), f'temp/im_{i}.png')"
   ]
  },
  {
   "cell_type": "code",
   "execution_count": 4,
   "metadata": {},
   "outputs": [],
   "source": [
    "from torch import nn\n",
    "import math"
   ]
  },
  {
   "cell_type": "code",
   "execution_count": 16,
   "metadata": {},
   "outputs": [],
   "source": [
    "class Block(nn.Module):\n",
    "    def __init__(self, in_ch, out_ch, time_emb_dim, up=False):\n",
    "        super().__init__()\n",
    "        self.time_mlp =  nn.Linear(time_emb_dim, out_ch)\n",
    "        if up:\n",
    "            self.conv1 = nn.Conv2d(2*in_ch, out_ch, 3, padding=1)\n",
    "            self.transform = nn.ConvTranspose2d(out_ch, out_ch, 4, 2, 1)\n",
    "        else:\n",
    "            self.conv1 = nn.Conv2d(in_ch, out_ch, 3, padding=1)\n",
    "            self.transform = nn.Conv2d(out_ch, out_ch, 4, 2, 1)\n",
    "        self.conv2 = nn.Conv2d(out_ch, out_ch, 3, padding=1)\n",
    "        self.bnorm1 = nn.BatchNorm2d(out_ch)\n",
    "        self.bnorm2 = nn.BatchNorm2d(out_ch)\n",
    "        self.relu  = nn.ReLU()\n",
    "        \n",
    "    def forward(self, x, t, ):\n",
    "        # First Conv\n",
    "        h = self.bnorm1(self.relu(self.conv1(x)))\n",
    "        # Time embedding\n",
    "        time_emb = self.relu(self.time_mlp(t))\n",
    "        # Extend last 2 dimensions\n",
    "        time_emb = time_emb[(..., ) + (None, ) * 2]\n",
    "        # Add time channel\n",
    "        h = h + time_emb\n",
    "        # Second Conv\n",
    "        h = self.bnorm2(self.relu(self.conv2(h)))\n",
    "        # Down or Upsample\n",
    "        return self.transform(h)\n",
    "\n",
    "\n",
    "class SinusoidalPositionEmbeddings(nn.Module):\n",
    "    def __init__(self, dim):\n",
    "        super().__init__()\n",
    "        self.dim = dim\n",
    "\n",
    "    def forward(self, time):\n",
    "        device = time.device\n",
    "        half_dim = self.dim // 2\n",
    "        embeddings = math.log(10000) / (half_dim - 1)\n",
    "        embeddings = torch.exp(torch.arange(half_dim, device=device) * -embeddings)\n",
    "        embeddings = time[:, None] * embeddings[None, :]\n",
    "        embeddings = torch.cat((embeddings.sin(), embeddings.cos()), dim=-1)\n",
    "        # TODO: Double check the ordering here\n",
    "        return embeddings\n",
    "\n",
    "\n",
    "class SimpleUnet(nn.Module):\n",
    "    \"\"\"\n",
    "    A simplified variant of the Unet architecture.\n",
    "    \"\"\"\n",
    "    def __init__(self):\n",
    "        super().__init__()\n",
    "        image_channels = 3\n",
    "        down_channels = (64, 128, 256, 512, 1024)\n",
    "        up_channels = (1024, 512, 256, 128, 64)\n",
    "        out_dim = 3 \n",
    "        time_emb_dim = 32\n",
    "\n",
    "        # Time embedding\n",
    "        self.time_mlp = nn.Sequential(\n",
    "                SinusoidalPositionEmbeddings(time_emb_dim),\n",
    "                nn.Linear(time_emb_dim, time_emb_dim),\n",
    "                nn.ReLU()\n",
    "            )\n",
    "        \n",
    "        # Initial projection\n",
    "        self.conv0 = nn.Conv2d(image_channels, down_channels[0], 3, padding=1)\n",
    "\n",
    "        # Downsample\n",
    "        self.downs = nn.ModuleList([Block(down_channels[i], down_channels[i+1], \\\n",
    "                                    time_emb_dim) \\\n",
    "                    for i in range(len(down_channels)-1)])\n",
    "        # Upsample\n",
    "        self.ups = nn.ModuleList([Block(up_channels[i], up_channels[i+1], \\\n",
    "                                        time_emb_dim, up=True) \\\n",
    "                    for i in range(len(up_channels)-1)])\n",
    "        \n",
    "        # Edit: Corrected a bug found by Jakub C (see YouTube comment)\n",
    "        self.output = nn.Conv2d(up_channels[-1], out_dim, 1)\n",
    "\n",
    "    def forward(self, x, timestep):\n",
    "        # Embedd time\n",
    "        t = self.time_mlp(timestep)\n",
    "        # Initial conv\n",
    "        x = self.conv0(x)\n",
    "        print(x.shape)\n",
    "        # Unet\n",
    "        residual_inputs = []\n",
    "        for down in self.downs:\n",
    "            x = down(x, t)\n",
    "            print(x.shape)\n",
    "            residual_inputs.append(x)\n",
    "        for up in self.ups:\n",
    "            residual_x = residual_inputs.pop()\n",
    "            # Add residual x as additional channels\n",
    "            x = torch.cat((x, residual_x), dim=1)           \n",
    "            x = up(x, t)\n",
    "        return x\n",
    "    "
   ]
  },
  {
   "cell_type": "code",
   "execution_count": 17,
   "metadata": {},
   "outputs": [
    {
     "name": "stdout",
     "output_type": "stream",
     "text": [
      "torch.Size([1, 64, 64, 64])\n",
      "torch.Size([1, 128, 32, 32])\n",
      "torch.Size([1, 256, 16, 16])\n",
      "torch.Size([1, 512, 8, 8])\n",
      "torch.Size([1, 1024, 4, 4])\n"
     ]
    },
    {
     "data": {
      "text/plain": [
       "torch.Size([1, 1024, 4, 4])"
      ]
     },
     "execution_count": 17,
     "metadata": {},
     "output_type": "execute_result"
    }
   ],
   "source": [
    "unet = SimpleUnet()\n",
    "\n",
    "unet(torch.rand(1, 3, 64, 64), torch.tensor([3])).shape"
   ]
  },
  {
   "cell_type": "code",
   "execution_count": 15,
   "metadata": {},
   "outputs": [
    {
     "data": {
      "text/plain": [
       "[<matplotlib.lines.Line2D at 0x157db5c10>]"
      ]
     },
     "execution_count": 15,
     "metadata": {},
     "output_type": "execute_result"
    },
    {
     "data": {
      "image/png": "[encoded data removed]",
      "text/plain": [
       "<Figure size 640x480 with 1 Axes>"
      ]
     },
     "metadata": {},
     "output_type": "display_data"
    }
   ],
   "source": [
    "l = torch.linspace(-10, 10, 10000)\n",
    "n = torch.nn.LeakyReLU(0.1)\n",
    "\n",
    "plt.plot(l.numpy(), n(l).numpy())"
   ]
  },
  {
   "cell_type": "code",
   "execution_count": 21,
   "metadata": {},
   "outputs": [],
   "source": [
    "def get_sinusoidal_embeddings(max_steps, time_embedding_dim, n=10000.0):\n",
    "    assert time_embedding_dim % 2 == 0, f'Sinusoidal positional embedding cannot apply to odd token embedding dim (got dim={time_embedding_dim})'\n",
    "\n",
    "    T = max_steps\n",
    "    d = time_embedding_dim #d_model=head_num*d_k, not d_q, d_k, d_v\n",
    "\n",
    "    positions = torch.arange(0, T).unsqueeze_(1)\n",
    "    embeddings = torch.zeros(T, d)\n",
    "\n",
    "    denominators = torch.pow(n, 2*torch.arange(0, d//2)/d) # 10000^(2i/d_model), i is the index of embedding\n",
    "    embeddings[:, 0::2] = torch.sin(positions/denominators) # sin(pos/10000^(2i/d_model))\n",
    "    embeddings[:, 1::2] = torch.cos(positions/denominators) # cos(pos/10000^(2i/d_model))\n",
    "\n",
    "    return embeddings\n",
    "\n",
    "embs = get_sinusoidal_embeddings(300, 128)"
   ]
  },
  {
   "cell_type": "code",
   "execution_count": 24,
   "metadata": {},
   "outputs": [
    {
     "ename": "TypeError",
     "evalue": "cannot assign 'torch.FloatTensor' as parameter 'weight' (torch.nn.Parameter or None expected)",
     "output_type": "error",
     "traceback": [
      "\u001b[0;31m---------------------------------------------------------------------------\u001b[0m",
      "\u001b[0;31mTypeError\u001b[0m                                 Traceback (most recent call last)",
      "Cell \u001b[0;32mIn[24], line 4\u001b[0m\n\u001b[1;32m      1\u001b[0m \u001b[38;5;28;01mfrom\u001b[39;00m \u001b[38;5;21;01mtorch\u001b[39;00m\u001b[38;5;21;01m.\u001b[39;00m\u001b[38;5;21;01mnn\u001b[39;00m \u001b[38;5;28;01mimport\u001b[39;00m Embedding\n\u001b[1;32m      3\u001b[0m emb \u001b[38;5;241m=\u001b[39m Embedding(\u001b[38;5;241m300\u001b[39m, \u001b[38;5;241m128\u001b[39m)\n\u001b[0;32m----> 4\u001b[0m \u001b[43memb\u001b[49m\u001b[38;5;241;43m.\u001b[39;49m\u001b[43mweight\u001b[49m \u001b[38;5;241m=\u001b[39m embs\n",
      "File \u001b[0;32m~/.local/share/virtualenvs/image-generation-project-mul9nwY7/lib/python3.11/site-packages/torch/nn/modules/module.py:1959\u001b[0m, in \u001b[0;36mModule.__setattr__\u001b[0;34m(self, name, value)\u001b[0m\n\u001b[1;32m   1957\u001b[0m \u001b[38;5;28;01melif\u001b[39;00m params \u001b[38;5;129;01mis\u001b[39;00m \u001b[38;5;129;01mnot\u001b[39;00m \u001b[38;5;28;01mNone\u001b[39;00m \u001b[38;5;129;01mand\u001b[39;00m name \u001b[38;5;129;01min\u001b[39;00m params:\n\u001b[1;32m   1958\u001b[0m     \u001b[38;5;28;01mif\u001b[39;00m value \u001b[38;5;129;01mis\u001b[39;00m \u001b[38;5;129;01mnot\u001b[39;00m \u001b[38;5;28;01mNone\u001b[39;00m:\n\u001b[0;32m-> 1959\u001b[0m         \u001b[38;5;28;01mraise\u001b[39;00m \u001b[38;5;167;01mTypeError\u001b[39;00m(\n\u001b[1;32m   1960\u001b[0m             \u001b[38;5;124mf\u001b[39m\u001b[38;5;124m\"\u001b[39m\u001b[38;5;124mcannot assign \u001b[39m\u001b[38;5;124m'\u001b[39m\u001b[38;5;132;01m{\u001b[39;00mtorch\u001b[38;5;241m.\u001b[39mtypename(value)\u001b[38;5;132;01m}\u001b[39;00m\u001b[38;5;124m'\u001b[39m\u001b[38;5;124m as parameter \u001b[39m\u001b[38;5;124m'\u001b[39m\u001b[38;5;132;01m{\u001b[39;00mname\u001b[38;5;132;01m}\u001b[39;00m\u001b[38;5;124m'\u001b[39m\u001b[38;5;124m \u001b[39m\u001b[38;5;124m\"\u001b[39m\n\u001b[1;32m   1961\u001b[0m             \u001b[38;5;124m\"\u001b[39m\u001b[38;5;124m(torch.nn.Parameter or None expected)\u001b[39m\u001b[38;5;124m\"\u001b[39m\n\u001b[1;32m   1962\u001b[0m         )\n\u001b[1;32m   1963\u001b[0m     \u001b[38;5;28mself\u001b[39m\u001b[38;5;241m.\u001b[39mregister_parameter(name, value)\n\u001b[1;32m   1964\u001b[0m \u001b[38;5;28;01melse\u001b[39;00m:\n",
      "\u001b[0;31mTypeError\u001b[0m: cannot assign 'torch.FloatTensor' as parameter 'weight' (torch.nn.Parameter or None expected)"
     ]
    }
   ],
   "source": [
    "from torch.nn import Embedding\n",
    "\n",
    "emb = Embedding(300, 128)\n",
    "emb.weight = embs"
   ]
  },
  {
   "cell_type": "code",
   "execution_count": null,
   "metadata": {},
   "outputs": [],
   "source": []
  }
 ],
 "metadata": {
  "kernelspec": {
   "display_name": "image-generation-project-mul9nwY7",
   "language": "python",
   "name": "python3"
  },
  "language_info": {
   "codemirror_mode": {
    "name": "ipython",
    "version": 3
   },
   "file_extension": ".py",
   "mimetype": "text/x-python",
   "name": "python",
   "nbconvert_exporter": "python",
   "pygments_lexer": "ipython3",
   "version": "3.11.5"
  }
 },
 "nbformat": 4,
 "nbformat_minor": 2
}
