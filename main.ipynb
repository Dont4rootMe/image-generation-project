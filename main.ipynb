{
 "cells": [
  {
   "cell_type": "code",
   "execution_count": 2,
   "metadata": {},
   "outputs": [],
   "source": [
    "from datasets.datasets import BaseDataset\n",
    "from torchvision import transforms\n",
    "\n",
    "transformers = transforms.Compose([\n",
    "    transforms.ToTensor(),\n",
    "    transforms.Resize((64, 64))\n",
    "])"
   ]
  },
  {
   "cell_type": "code",
   "execution_count": 6,
   "metadata": {},
   "outputs": [
    {
     "name": "stderr",
     "output_type": "stream",
     "text": [
      "data normalization: 100%|██████████| 98937/98937 [00:20<00:00, 4744.49it/s]"
     ]
    },
    {
     "name": "stdout",
     "output_type": "stream",
     "text": [
      "Normalization:\n",
      "\tmean=[0.5503347516059875, 0.4453015923500061, 0.22809578478336334]\n",
      "\t std=[0.5503347516059875, 0.2311706840991974, 0.22809578478336334]\n"
     ]
    },
    {
     "name": "stderr",
     "output_type": "stream",
     "text": [
      "\n"
     ]
    }
   ],
   "source": [
    "import numpy as np\n",
    "\n",
    "bds = BaseDataset(\n",
    "    root='data/food_data/train',\n",
    "    transforms=transformers,\n",
    "    samples_to_normalize=None,\n",
    "    mean=None, std=None,\n",
    "    normalize_data=True\n",
    ")"
   ]
  },
  {
   "cell_type": "code",
   "execution_count": 7,
   "metadata": {},
   "outputs": [],
   "source": [
    "bds_modified = BaseDataset(\n",
    "    root='data/food_data/train',\n",
    "    transforms=transformers,\n",
    "    samples_to_normalize=None,\n",
    "    mean=np.array([0.5, 0.5, 0.5]), std=np.array([0.5, 0.5, 0.5]),\n",
    "    normalize_data=True\n",
    ")"
   ]
  },
  {
   "cell_type": "code",
   "execution_count": 9,
   "metadata": {},
   "outputs": [
    {
     "data": {
      "text/plain": [
       "tensor([[[ 1.4451,  1.3743,  1.2681,  ..., -1.4570, -1.4393, -1.3862],\n",
       "         [ 1.2328,  1.1974,  1.1266,  ..., -0.5191, -0.8199, -1.0500],\n",
       "         [ 1.0204,  1.0204,  0.9850,  ..., -0.2537, -0.1829, -0.1652],\n",
       "         ...,\n",
       "         [ 1.1443,  1.2151,  1.2858,  ...,  1.4982,  1.4982,  1.4982],\n",
       "         [ 1.1974,  1.2328,  1.2681,  ...,  1.5159,  1.5159,  1.5159],\n",
       "         [ 1.1974,  1.1974,  1.1974,  ...,  1.5159,  1.5159,  1.5159]],\n",
       "\n",
       "        [[ 1.6361,  1.5683,  1.4665,  ..., -1.7906, -1.8245, -1.7736],\n",
       "         [ 1.4326,  1.3986,  1.3308,  ..., -0.8745, -1.1629, -1.4004],\n",
       "         [ 1.2290,  1.2290,  1.1951,  ..., -0.5352, -0.4844, -0.4674],\n",
       "         ...,\n",
       "         [ 1.2629,  1.3308,  1.3986,  ...,  1.7379,  1.7379,  1.7379],\n",
       "         [ 1.2969,  1.3308,  1.3647,  ...,  1.7549,  1.7549,  1.7549],\n",
       "         [ 1.2969,  1.2969,  1.2969,  ...,  1.7549,  1.7549,  1.7549]],\n",
       "\n",
       "        [[ 1.9023,  1.8335,  1.7304,  ..., -1.5019, -1.5019, -1.5019],\n",
       "         [ 1.6960,  1.6616,  1.5928,  ..., -0.9517, -1.2784, -1.5019],\n",
       "         [ 1.4553,  1.4553,  1.4209,  ..., -0.5563, -0.5391, -0.5219],\n",
       "         ...,\n",
       "         [ 1.3865,  1.4553,  1.5240,  ...,  1.9539,  1.9539,  1.9539],\n",
       "         [ 1.3865,  1.4209,  1.4553,  ...,  1.9367,  1.9367,  1.9367],\n",
       "         [ 1.3865,  1.3865,  1.3865,  ...,  1.9367,  1.9367,  1.9367]]])"
      ]
     },
     "execution_count": 9,
     "metadata": {},
     "output_type": "execute_result"
    }
   ],
   "source": [
    "bds[0]['images']"
   ]
  },
  {
   "cell_type": "code",
   "execution_count": 4,
   "metadata": {},
   "outputs": [
    {
     "data": {
      "text/plain": [
       "(array([ 1.,  1.,  0.,  0.,  1.,  2.,  1.,  0.,  2.,  0.,  1.,  2.,  3.,\n",
       "         2.,  1.,  2.,  3.,  2.,  0.,  3.,  3.,  5.,  4.,  4., 10.,  8.,\n",
       "         5.,  6.,  0.,  7.,  3.,  7.,  9.,  8., 10.,  6.,  6.,  0.,  6.,\n",
       "         3.,  5.,  4.,  3.,  4.,  9.,  3.,  3.,  0.,  4.,  8., 10.,  3.,\n",
       "         7.,  1., 11.,  7.,  0.,  5.,  5.,  7.,  6.,  8.,  5.,  8.,  6.,\n",
       "         6.,  0.,  6.,  6.,  7.,  5.,  9., 10.,  3.,  9.,  0.,  9.,  9.,\n",
       "         2., 12.,  4., 12., 10.,  7., 11.,  0.,  9., 14., 11., 10., 15.,\n",
       "         8.,  7., 14.,  0., 12.,  9., 15., 11., 11.,  5., 19., 15., 16.,\n",
       "         0., 15., 15., 17., 12., 12., 16., 10., 16.,  0., 18., 16., 17.,\n",
       "        13., 12., 15., 16., 10., 11.,  0., 12., 12., 15., 19., 15., 13.,\n",
       "        11., 11.,  0., 14., 10., 16., 14., 23., 19., 17., 15., 14.,  0.,\n",
       "        11., 20., 12., 17., 25., 16., 22., 22.,  0., 27., 31., 28., 33.,\n",
       "        27., 23., 23., 31., 27.,  0., 27., 22., 32., 32., 32., 26., 18.,\n",
       "        38.,  0., 36., 30., 25., 20., 26., 31., 29., 29., 33.,  0., 26.,\n",
       "        29., 27., 32., 32., 22., 40., 61.,  0., 50., 56., 57., 46., 41.,\n",
       "        48., 38., 40., 46.,  0., 64., 45., 36., 49., 43., 49., 42., 34.,\n",
       "         0., 33., 30., 40., 27., 34., 28., 35., 27., 40.,  0., 52., 38.,\n",
       "        51., 48., 40., 41., 22., 30.,  0., 21., 28., 18., 22., 21., 23.,\n",
       "        37., 27., 25.,  0., 24., 14., 36., 16., 19., 15., 12., 10.,  0.,\n",
       "         9., 11.,  8.,  4.,  9.,  6.,  2.,  5., 26.]),\n",
       " array([-0.79607843, -0.7890625 , -0.78204657, -0.77503063, -0.7680147 ,\n",
       "        -0.76099877, -0.75398284, -0.74696691, -0.73995098, -0.73293505,\n",
       "        -0.72591912, -0.71890318, -0.71188725, -0.70487132, -0.69785539,\n",
       "        -0.69083946, -0.68382353, -0.6768076 , -0.66979166, -0.66277573,\n",
       "        -0.6557598 , -0.64874387, -0.64172794, -0.63471201, -0.62769608,\n",
       "        -0.62068014, -0.61366421, -0.60664828, -0.59963235, -0.59261642,\n",
       "        -0.58560049, -0.57858456, -0.57156863, -0.56455269, -0.55753676,\n",
       "        -0.55052083, -0.5435049 , -0.53648897, -0.52947304, -0.52245711,\n",
       "        -0.51544117, -0.50842524, -0.50140931, -0.49439338, -0.48737745,\n",
       "        -0.48036152, -0.47334559, -0.46632965, -0.45931372, -0.45229779,\n",
       "        -0.44528186, -0.43826593, -0.43125   , -0.42423407, -0.41721814,\n",
       "        -0.4102022 , -0.40318627, -0.39617034, -0.38915441, -0.38213848,\n",
       "        -0.37512255, -0.36810662, -0.36109068, -0.35407475, -0.34705882,\n",
       "        -0.34004289, -0.33302696, -0.32601103, -0.3189951 , -0.31197916,\n",
       "        -0.30496323, -0.2979473 , -0.29093137, -0.28391544, -0.27689951,\n",
       "        -0.26988358, -0.26286765, -0.25585171, -0.24883578, -0.24181985,\n",
       "        -0.23480392, -0.22778799, -0.22077206, -0.21375613, -0.20674019,\n",
       "        -0.19972426, -0.19270833, -0.1856924 , -0.17867647, -0.17166054,\n",
       "        -0.16464461, -0.15762867, -0.15061274, -0.14359681, -0.13658088,\n",
       "        -0.12956495, -0.12254902, -0.11553309, -0.10851716, -0.10150122,\n",
       "        -0.09448529, -0.08746936, -0.08045343, -0.0734375 , -0.06642157,\n",
       "        -0.05940564, -0.0523897 , -0.04537377, -0.03835784, -0.03134191,\n",
       "        -0.02432598, -0.01731005, -0.01029412, -0.00327818,  0.00373775,\n",
       "         0.01075368,  0.01776961,  0.02478554,  0.03180147,  0.0388174 ,\n",
       "         0.04583333,  0.05284927,  0.0598652 ,  0.06688113,  0.07389706,\n",
       "         0.08091299,  0.08792892,  0.09494485,  0.10196079,  0.10897672,\n",
       "         0.11599265,  0.12300858,  0.13002451,  0.13704044,  0.14405637,\n",
       "         0.15107231,  0.15808824,  0.16510417,  0.1721201 ,  0.17913603,\n",
       "         0.18615196,  0.19316789,  0.20018382,  0.20719976,  0.21421569,\n",
       "         0.22123162,  0.22824755,  0.23526348,  0.24227941,  0.24929534,\n",
       "         0.25631128,  0.26332721,  0.27034314,  0.27735907,  0.284375  ,\n",
       "         0.29139093,  0.29840686,  0.3054228 ,  0.31243873,  0.31945466,\n",
       "         0.32647059,  0.33348652,  0.34050245,  0.34751838,  0.35453431,\n",
       "         0.36155025,  0.36856618,  0.37558211,  0.38259804,  0.38961397,\n",
       "         0.3966299 ,  0.40364583,  0.41066177,  0.4176777 ,  0.42469363,\n",
       "         0.43170956,  0.43872549,  0.44574142,  0.45275735,  0.45977329,\n",
       "         0.46678922,  0.47380515,  0.48082108,  0.48783701,  0.49485294,\n",
       "         0.50186887,  0.5088848 ,  0.51590074,  0.52291667,  0.5299326 ,\n",
       "         0.53694853,  0.54396446,  0.55098039,  0.55799632,  0.56501226,\n",
       "         0.57202819,  0.57904412,  0.58606005,  0.59307598,  0.60009191,\n",
       "         0.60710784,  0.61412378,  0.62113971,  0.62815564,  0.63517157,\n",
       "         0.6421875 ,  0.64920343,  0.65621936,  0.66323529,  0.67025123,\n",
       "         0.67726716,  0.68428309,  0.69129902,  0.69831495,  0.70533088,\n",
       "         0.71234681,  0.71936275,  0.72637868,  0.73339461,  0.74041054,\n",
       "         0.74742647,  0.7544424 ,  0.76145833,  0.76847427,  0.7754902 ,\n",
       "         0.78250613,  0.78952206,  0.79653799,  0.80355392,  0.81056985,\n",
       "         0.81758578,  0.82460172,  0.83161765,  0.83863358,  0.84564951,\n",
       "         0.85266544,  0.85968137,  0.8666973 ,  0.87371324,  0.88072917,\n",
       "         0.8877451 ,  0.89476103,  0.90177696,  0.90879289,  0.91580882,\n",
       "         0.92282476,  0.92984069,  0.93685662,  0.94387255,  0.95088848,\n",
       "         0.95790441,  0.96492034,  0.97193627,  0.97895221,  0.98596814,\n",
       "         0.99298407,  1.        ]),\n",
       " [<matplotlib.patches.Polygon at 0x129ecb550>])"
      ]
     },
     "execution_count": 4,
     "metadata": {},
     "output_type": "execute_result"
    },
    {
     "data": {
      "image/png": "[encoded data removed]",
      "text/plain": [
       "<Figure size 640x480 with 1 Axes>"
      ]
     },
     "metadata": {},
     "output_type": "display_data"
    }
   ],
   "source": [
    "from matplotlib import pyplot as plt\n",
    "plt.hist(bds[0]['images'][0].ravel(), bins=256, histtype='step')"
   ]
  },
  {
   "cell_type": "code",
   "execution_count": 278,
   "metadata": {},
   "outputs": [],
   "source": [
    "from matplotlib import pyplot as plt\n",
    "from training import noise\n",
    "\n",
    "ns = noise.NoiseScheduler(0.1, 1000)"
   ]
  },
  {
   "cell_type": "code",
   "execution_count": 107,
   "metadata": {},
   "outputs": [
    {
     "name": "stderr",
     "output_type": "stream",
     "text": [
      "/var/folders/hk/5434dpv95nl2rxl497d7c0lm0000gn/T/ipykernel_19630/769216580.py:1: DeprecationWarning: __array_wrap__ must accept context and return_scalar arguments (positionally) in the future. (Deprecated NumPy 2.0)\n",
      "  plt.imshow(ns(bds[0]['images'].permute(1, 2, 0), 900) * bds.std + bds.mean)\n",
      "Clipping input data to the valid range for imshow with RGB data ([0..1] for floats or [0..255] for integers). Got range [-3.7908554e-05..1.0000212].\n"
     ]
    },
    {
     "data": {
      "text/plain": [
       "<matplotlib.image.AxesImage at 0x1682b1050>"
      ]
     },
     "execution_count": 107,
     "metadata": {},
     "output_type": "execute_result"
    },
    {
     "data": {
      "image/png": "[encoded data removed]",
      "text/plain": [
       "<Figure size 640x480 with 1 Axes>"
      ]
     },
     "metadata": {},
     "output_type": "display_data"
    }
   ],
   "source": [
    "plt.imshow(ns(bds[0]['images'].permute(1, 2, 0), 900) * bds.std + bds.mean)"
   ]
  },
  {
   "cell_type": "code",
   "execution_count": 281,
   "metadata": {},
   "outputs": [
    {
     "data": {
      "text/plain": [
       "<matplotlib.image.AxesImage at 0x176d3c8d0>"
      ]
     },
     "execution_count": 281,
     "metadata": {},
     "output_type": "execute_result"
    },
    {
     "data": {
      "image/png": "[encoded data removed]",
      "text/plain": [
       "<Figure size 640x480 with 1 Axes>"
      ]
     },
     "metadata": {},
     "output_type": "display_data"
    }
   ],
   "source": [
    "from torch.nn import functional as F\n",
    "import torch\n",
    "from math import log\n",
    "\n",
    "input = bds[0]['images'].unsqueeze(0)\n",
    "# input = ns(bds[0]['images'], 10).unsqueeze(0)\n",
    "size = int(input.size(2) / (2 ** 3))\n",
    "size = (size, size)\n",
    "\n",
    "plt.imshow(ns(F.interpolate(input, size, mode='bilinear', align_corners=True), 1000).squeeze(0).permute(1, 2, 0).detach().numpy() * bds.std + bds.mean)"
   ]
  },
  {
   "cell_type": "code",
   "execution_count": 290,
   "metadata": {},
   "outputs": [
    {
     "name": "stderr",
     "output_type": "stream",
     "text": [
      "Clipping input data to the valid range for imshow with RGB data ([0..1] for floats or [0..255] for integers). Got range [-0.0074172914..1.0109874].\n"
     ]
    },
    {
     "data": {
      "text/plain": [
       "<matplotlib.image.AxesImage at 0x1779721d0>"
      ]
     },
     "execution_count": 290,
     "metadata": {},
     "output_type": "execute_result"
    },
    {
     "data": {
      "image/png": "[encoded data removed]",
      "text/plain": [
       "<Figure size 640x480 with 1 Axes>"
      ]
     },
     "metadata": {},
     "output_type": "display_data"
    }
   ],
   "source": [
    "plt.imshow(ns(F.interpolate(input, size, mode='bilinear', align_corners=True), 1).squeeze(0).permute(1, 2, 0).detach().numpy() * bds.std + bds.mean)"
   ]
  },
  {
   "cell_type": "code",
   "execution_count": 1,
   "metadata": {},
   "outputs": [],
   "source": [
    "from models.gan_models import WasserstainGenerator, WasserstainCritic\n",
    "from omegaconf import OmegaConf\n",
    "import torch\n",
    "\n",
    "config = OmegaConf.create({\n",
    "    'z_dim': 128,\n",
    "    'hidden_dim': 512\n",
    "})\n",
    "\n",
    "wg = WasserstainGenerator(config)\n",
    "wc = WasserstainCritic(config)"
   ]
  },
  {
   "cell_type": "code",
   "execution_count": 24,
   "metadata": {},
   "outputs": [
    {
     "data": {
      "text/plain": [
       "tensor(0.0339, grad_fn=<SqueezeBackward0>)"
      ]
     },
     "execution_count": 24,
     "metadata": {},
     "output_type": "execute_result"
    }
   ],
   "source": [
    "num_blocks=5\n",
    "wg.set_num_blocks(num_blocks)\n",
    "wc.set_num_blocks(num_blocks)\n",
    "wc(wg(torch.normal(0, 1, (1, 128), device='cpu')))"
   ]
  },
  {
   "cell_type": "code",
   "execution_count": 7,
   "metadata": {},
   "outputs": [
    {
     "data": {
      "text/plain": [
       "tensor(1)"
      ]
     },
     "execution_count": 7,
     "metadata": {},
     "output_type": "execute_result"
    }
   ],
   "source": [
    "wg.block_number"
   ]
  },
  {
   "cell_type": "code",
   "execution_count": 4,
   "metadata": {},
   "outputs": [],
   "source": [
    "from training.fade_in import FadeInScheduler\n",
    "from omegaconf import OmegaConf\n",
    "import torch\n",
    "\n",
    "config = OmegaConf.create({\n",
    "    'lvl_fraction': [0.5, 0.1, 0.1, 0.2, 0.1],\n",
    "    'start_from': 1\n",
    "})\n",
    "\n",
    "fis = FadeInScheduler(300000, config)"
   ]
  },
  {
   "cell_type": "code",
   "execution_count": 6,
   "metadata": {},
   "outputs": [
    {
     "name": "stderr",
     "output_type": "stream",
     "text": [
      "  0%|          | 0/300000 [00:00<?, ?it/s]"
     ]
    },
    {
     "name": "stderr",
     "output_type": "stream",
     "text": [
      "100%|██████████| 300000/300000 [02:24<00:00, 2079.84it/s]\n"
     ]
    }
   ],
   "source": [
    "from tqdm import tqdm\n",
    "ks = []\n",
    "for i in tqdm(range(300000)):\n",
    "    _, k = fis(torch.normal(0, 1, (3, 3, 64, 64), device='cpu'), i)\n",
    "    ks.append(k)"
   ]
  },
  {
   "cell_type": "code",
   "execution_count": 7,
   "metadata": {},
   "outputs": [
    {
     "data": {
      "text/plain": [
       "(array([150000.,      0.,  30000.,      0.,      0.,  30000.,      0.,\n",
       "         60000.,      0.,  30000.]),\n",
       " array([1. , 1.4, 1.8, 2.2, 2.6, 3. , 3.4, 3.8, 4.2, 4.6, 5. ]),\n",
       " <BarContainer object of 10 artists>)"
      ]
     },
     "execution_count": 7,
     "metadata": {},
     "output_type": "execute_result"
    },
    {
     "data": {
      "image/png": "[encoded data removed]",
      "text/plain": [
       "<Figure size 640x480 with 1 Axes>"
      ]
     },
     "metadata": {},
     "output_type": "display_data"
    }
   ],
   "source": [
    "from matplotlib import pyplot as plt\n",
    "plt.hist(ks)"
   ]
  },
  {
   "cell_type": "code",
   "execution_count": 2,
   "metadata": {},
   "outputs": [
    {
     "data": {
      "text/plain": [
       "(tensor([[[[-1.0906,  0.4119, -0.7750,  0.4693],\n",
       "           [-0.3465,  0.2120,  1.0050, -0.9589],\n",
       "           [ 0.0548, -0.6221,  1.3432, -1.0137],\n",
       "           [-0.5251,  0.1708, -1.0779,  0.8347]],\n",
       " \n",
       "          [[ 2.0891, -0.5095,  0.2201,  0.8418],\n",
       "           [-1.1826,  1.5177, -0.2353, -0.0411],\n",
       "           [-0.3922,  1.2493,  1.0612, -1.1562],\n",
       "           [ 0.3163, -0.3204, -1.1379, -1.0743]],\n",
       " \n",
       "          [[ 0.8276,  0.6131, -0.8035,  1.0268],\n",
       "           [-2.2075, -0.0541, -1.5817, -2.1291],\n",
       "           [-0.6421,  2.1659,  1.1974, -0.6697],\n",
       "           [ 0.5226, -0.1340, -0.2136,  0.5278]]],\n",
       " \n",
       " \n",
       "         [[[ 0.1328, -1.9444,  0.7725,  1.6371],\n",
       "           [ 1.8997,  2.0917, -0.5498, -0.5602],\n",
       "           [-0.4596,  0.6740,  0.2972, -0.4629],\n",
       "           [ 1.7110, -0.5254, -1.5955, -0.4160]],\n",
       " \n",
       "          [[ 1.5743, -0.8722, -1.2473, -1.6467],\n",
       "           [-1.3646, -0.0185, -0.8471,  0.2479],\n",
       "           [ 0.2702,  1.2933, -0.5234, -0.5178],\n",
       "           [-1.5107, -1.2274,  0.4502,  0.3784]],\n",
       " \n",
       "          [[-0.4942,  0.6440, -0.2398,  2.1366],\n",
       "           [ 0.1224,  0.2282, -0.6797, -0.2533],\n",
       "           [ 2.2703, -0.4765,  1.2340, -0.1591],\n",
       "           [-0.9873, -0.9608, -0.8874, -0.5702]]],\n",
       " \n",
       " \n",
       "         [[[-1.6783, -0.6842,  0.1277, -1.5225],\n",
       "           [-0.4527,  0.9262,  0.3565, -2.3085],\n",
       "           [ 0.8160, -1.0270,  0.0414,  0.6332],\n",
       "           [ 0.0788,  0.3802, -0.2800, -1.2035]],\n",
       " \n",
       "          [[ 0.0611, -0.1216,  0.3540,  0.7332],\n",
       "           [-0.5127, -0.6350,  0.4837, -0.9044],\n",
       "           [ 2.0132,  0.4437, -0.9452,  0.9914],\n",
       "           [ 0.1221,  2.1879,  0.2315,  0.1392]],\n",
       " \n",
       "          [[-0.5198,  1.3093,  0.6492, -0.9552],\n",
       "           [-0.4547,  1.0614,  0.2291,  0.4981],\n",
       "           [ 0.6267, -0.5843,  1.2836,  1.6312],\n",
       "           [-0.3545, -0.6131,  1.1685, -0.6636]]]]),\n",
       " tensor(1))"
      ]
     },
     "execution_count": 2,
     "metadata": {},
     "output_type": "execute_result"
    }
   ],
   "source": [
    "fis(torch.normal(0, 1, (3, 3, 64, 64), device='cpu'), 0)"
   ]
  },
  {
   "cell_type": "code",
   "execution_count": null,
   "metadata": {},
   "outputs": [],
   "source": []
  }
 ],
 "metadata": {
  "kernelspec": {
   "display_name": "image-generation-project-mul9nwY7",
   "language": "python",
   "name": "python3"
  },
  "language_info": {
   "codemirror_mode": {
    "name": "ipython",
    "version": 3
   },
   "file_extension": ".py",
   "mimetype": "text/x-python",
   "name": "python",
   "nbconvert_exporter": "python",
   "pygments_lexer": "ipython3",
   "version": "3.11.5"
  }
 },
 "nbformat": 4,
 "nbformat_minor": 2
}
